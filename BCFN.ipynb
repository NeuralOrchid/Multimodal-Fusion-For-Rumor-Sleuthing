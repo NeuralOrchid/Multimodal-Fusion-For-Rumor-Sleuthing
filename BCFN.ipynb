{
  "cells": [
    {
      "cell_type": "markdown",
      "id": "af72453e",
      "metadata": {
        "id": "af72453e"
      },
      "source": [
        "<h1 class=\"head\">BiGCN-CLIP Fusion Net (BCFN)</h1>\n",
        "\n",
        "<style>\n",
        "  @import url('https://fonts.googleapis.com/css2?family=Syncopate:wght@400;700&display=swap');\n",
        "  .head {\n",
        "    font-family: \"Syncopate\", sans-serif;\n",
        "    font-weight: 400;\n",
        "    font-size: 80px;\n",
        "    font-style: normal;\n",
        "    color: #3f83f8;\n",
        "    text-align: center;\n",
        "    transition-property: all;\n",
        "    transition-duration: 700ms;\n",
        "  }\n",
        "\n",
        "  .head:hover{\n",
        "    color: #fff;\n",
        "    text-shadow: 0 0 10px #eee, 0 0 20px #3f83f8, 0 0 30px #3f83f8;\n",
        "  }\n",
        "</style>"
      ]
    },
    {
      "cell_type": "markdown",
      "id": "a5210c17",
      "metadata": {
        "id": "a5210c17"
      },
      "source": [
        "# Multimodal fusion for rumor sleuthing: A comprehensive approach"
      ]
    },
    {
      "cell_type": "code",
      "execution_count": 1,
      "id": "2094be66",
      "metadata": {
        "vscode": {
          "languageId": "plaintext"
        },
        "colab": {
          "base_uri": "https://localhost:8080/"
        },
        "id": "2094be66",
        "outputId": "513dbda3-9a6d-4721-9953-148603a38b1d"
      },
      "outputs": [
        {
          "output_type": "stream",
          "name": "stdout",
          "text": [
            "Cloning into 'Multimodal-Fusion-For-Rumor-Sleuthing'...\n",
            "remote: Enumerating objects: 12, done.\u001b[K\n",
            "remote: Counting objects: 100% (12/12), done.\u001b[K\n",
            "remote: Compressing objects: 100% (11/11), done.\u001b[K\n",
            "remote: Total 12 (delta 0), reused 12 (delta 0), pack-reused 0 (from 0)\u001b[K\n",
            "Receiving objects: 100% (12/12), 8.61 KiB | 8.61 MiB/s, done.\n"
          ]
        }
      ],
      "source": [
        "! git clone https://github.com/NeuralOrchid/Multimodal-Fusion-For-Rumor-Sleuthing.git"
      ]
    },
    {
      "cell_type": "code",
      "source": [
        "# Install required packages.\n",
        "! pip uninstall torch --y\n",
        "! pip -q install torch==2.1.2 torchvision torchaudio --index-url https://download.pytorch.org/whl/cu121\n",
        "\n",
        "! pip -q install \"numpy<2.0\"\n",
        "\n",
        "import torch\n",
        "print(torch.__version__)\n",
        "\n",
        "! pip -q install torch-scatter -f https://data.pyg.org/whl/torch-{torch.__version__}.html\n",
        "! pip -q install torch-sparse -f https://data.pyg.org/whl/torch-{torch.__version__}.html\n",
        "! pip -q install torch-cluster -f https://data.pyg.org/whl/torch-{torch.__version__}.html\n",
        "! pip -q install git+https://github.com/pyg-team/pytorch_geometric.git\n",
        "\n",
        "! pip -q install tiktoken\n",
        "\n",
        "! pip -q install torcheval"
      ],
      "metadata": {
        "colab": {
          "base_uri": "https://localhost:8080/"
        },
        "id": "y-kZMvzobVdf",
        "outputId": "11ed5ee5-6cb1-4f55-922a-9fc273bb7820"
      },
      "id": "y-kZMvzobVdf",
      "execution_count": 9,
      "outputs": [
        {
          "output_type": "stream",
          "name": "stdout",
          "text": [
            "\u001b[33mWARNING: Skipping torch as it is not installed.\u001b[0m\u001b[33m\n",
            "\u001b[2K     \u001b[90m━━━━━━━━━━━━━━━━━━━━━━━━━━━━━━━━━━━━━━━━\u001b[0m \u001b[32m61.0/61.0 kB\u001b[0m \u001b[31m4.9 MB/s\u001b[0m eta \u001b[36m0:00:00\u001b[0m\n",
            "\u001b[2K   \u001b[90m━━━━━━━━━━━━━━━━━━━━━━━━━━━━━━━━━━━━━━━━\u001b[0m \u001b[32m18.3/18.3 MB\u001b[0m \u001b[31m79.9 MB/s\u001b[0m eta \u001b[36m0:00:00\u001b[0m\n",
            "\u001b[?25h\u001b[31mERROR: pip's dependency resolver does not currently take into account all the packages that are installed. This behaviour is the source of the following dependency conflicts.\n",
            "thinc 8.3.6 requires numpy<3.0.0,>=2.0.0, but you have numpy 1.26.4 which is incompatible.\u001b[0m\u001b[31m\n",
            "\u001b[0m2.1.2+cu121\n",
            "  Installing build dependencies ... \u001b[?25l\u001b[?25hdone\n",
            "  Getting requirements to build wheel ... \u001b[?25l\u001b[?25hdone\n",
            "  Preparing metadata (pyproject.toml) ... \u001b[?25l\u001b[?25hdone\n"
          ]
        }
      ]
    },
    {
      "cell_type": "code",
      "execution_count": null,
      "id": "080879e5",
      "metadata": {
        "vscode": {
          "languageId": "plaintext"
        },
        "id": "080879e5"
      },
      "outputs": [],
      "source": [
        "%cd Multimodal-Fusion-For-Rumor-Sleuthing"
      ]
    },
    {
      "cell_type": "code",
      "execution_count": 10,
      "id": "96b3ee9f",
      "metadata": {
        "vscode": {
          "languageId": "plaintext"
        },
        "colab": {
          "base_uri": "https://localhost:8080/"
        },
        "id": "96b3ee9f",
        "outputId": "4be71ec1-816f-4e54-e8dc-0588fd1dad1a"
      },
      "outputs": [
        {
          "output_type": "stream",
          "name": "stdout",
          "text": [
            "Training[0/2]:   0%|          | 0/3 [00:00<?, ?it/s]\n",
            "Training[1/2]:   0%|          | 0/3 [00:00<?, ?it/s]\n"
          ]
        }
      ],
      "source": [
        "!python training.py"
      ]
    }
  ],
  "metadata": {
    "language_info": {
      "name": "python"
    },
    "colab": {
      "provenance": [],
      "gpuType": "T4"
    },
    "accelerator": "GPU",
    "kernelspec": {
      "name": "python3",
      "display_name": "Python 3"
    }
  },
  "nbformat": 4,
  "nbformat_minor": 5
}