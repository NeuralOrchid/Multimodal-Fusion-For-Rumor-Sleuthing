{
 "cells": [
  {
   "cell_type": "markdown",
   "id": "af72453e",
   "metadata": {},
   "source": [
    "<h1 class=\"head\">BiGCN-CLIP Fusion Net (BCFN)</h1>\n",
    "\n",
    "<style>\n",
    "  @import url('https://fonts.googleapis.com/css2?family=Syncopate:wght@400;700&display=swap');\n",
    "  .head {\n",
    "    font-family: \"Syncopate\", sans-serif;\n",
    "    font-weight: 400;\n",
    "    font-size: 80px;\n",
    "    font-style: normal;\n",
    "    color: #3f83f8;\n",
    "    text-align: center;\n",
    "    transition-property: all;\n",
    "    transition-duration: 700ms;\n",
    "  }\n",
    "\n",
    "  .head:hover{\n",
    "    color: #fff;\n",
    "    text-shadow: 0 0 10px #eee, 0 0 20px #3f83f8, 0 0 30px #3f83f8;\n",
    "  }\n",
    "</style>"
   ]
  },
  {
   "cell_type": "markdown",
   "id": "a5210c17",
   "metadata": {},
   "source": [
    "# Multimodal fusion for rumor sleuthing: A comprehensive approach"
   ]
  },
  {
   "cell_type": "code",
   "execution_count": null,
   "id": "2094be66",
   "metadata": {
    "vscode": {
     "languageId": "plaintext"
    }
   },
   "outputs": [],
   "source": [
    "! git clone https://github.com/NeuralOrchid/Multimodal-Fusion-For-Rumor-Sleuthing.git"
   ]
  },
  {
   "cell_type": "markdown",
   "id": "a6b211e8",
   "metadata": {},
   "source": [
    "# Install required packages.\n",
    "! pip uninstall torch --y\n",
    "! pip -q install torch==2.1.2 torchvision torchaudio --index-url https://download.pytorch.org/whl/cu121\n",
    "\n",
    "import torch\n",
    "print(torch.__version__)\n",
    "\n",
    "! pip uninstall torch-scatter torch-sparse torch-geometric torch-cluster  --y\n",
    "! pip -q install torch-scatter -f https://data.pyg.org/whl/torch-{torch.__version__}.html\n",
    "! pip -q install torch-sparse -f https://data.pyg.org/whl/torch-{torch.__version__}.html\n",
    "! pip -q install torch-cluster -f https://data.pyg.org/whl/torch-{torch.__version__}.html\n",
    "! pip -q install git+https://github.com/pyg-team/pytorch_geometric.git\n",
    "\n",
    "! pip -q install tiktoken\n",
    "\n",
    "! pip -q install torcheval"
   ]
  },
  {
   "cell_type": "code",
   "execution_count": null,
   "id": "080879e5",
   "metadata": {
    "vscode": {
     "languageId": "plaintext"
    }
   },
   "outputs": [],
   "source": [
    "% cd Multimodal-Fusion-For-Rumor-Sleuthing"
   ]
  },
  {
   "cell_type": "code",
   "execution_count": null,
   "id": "96b3ee9f",
   "metadata": {
    "vscode": {
     "languageId": "plaintext"
    }
   },
   "outputs": [],
   "source": [
    "! python training.py"
   ]
  }
 ],
 "metadata": {
  "language_info": {
   "name": "python"
  }
 },
 "nbformat": 4,
 "nbformat_minor": 5
}
